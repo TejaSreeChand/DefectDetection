{
 "cells": [
  {
   "cell_type": "markdown",
   "metadata": {},
   "source": [
    "# Convert video to images"
   ]
  },
  {
   "cell_type": "markdown",
   "metadata": {},
   "source": [
    "### Load necessary libraries"
   ]
  },
  {
   "cell_type": "code",
   "execution_count": 14,
   "metadata": {},
   "outputs": [],
   "source": [
    "import numpy as np\n",
    "import cv2\n",
    "import os\n",
    "import random"
   ]
  },
  {
   "cell_type": "code",
   "execution_count": 24,
   "metadata": {},
   "outputs": [
    {
     "name": "stdout",
     "output_type": "stream",
     "text": [
      "C:\\Users\\navya\\OneDrive - Dalhousie University\\Documents\\DataScience\\DefectDetection\\saucer_defect_detection\\saucer_data\\train\\normal\n"
     ]
    }
   ],
   "source": [
    "import os\n",
    "print(os.getcwd())"
   ]
  },
  {
   "cell_type": "code",
   "execution_count": 28,
   "metadata": {},
   "outputs": [
    {
     "name": "stdout",
     "output_type": "stream",
     "text": [
      "True\n"
     ]
    }
   ],
   "source": [
    "print(os.path.exists(r'C:\\Users\\navya\\OneDrive - Dalhousie University\\Documents\\DataScience\\DefectDetection\\saucer_defect_detection\\saucer_data\\train\\defect_1'))"
   ]
  },
  {
   "cell_type": "markdown",
   "metadata": {},
   "source": [
    "### Convert the normal saucer mp4 video to dataset of images"
   ]
  },
  {
   "cell_type": "code",
   "execution_count": 31,
   "metadata": {},
   "outputs": [
    {
     "name": "stdout",
     "output_type": "stream",
     "text": [
      "Error opening video stream or file\n"
     ]
    }
   ],
   "source": [
    "cap = cv2.VideoCapture(r'normal.mp4')\n",
    "if (cap.isOpened()== False):\n",
    "  print(\"Error opening video stream or file\")\n",
    " \n",
    "os.chdir(r'C:\\Users\\navya\\OneDrive - Dalhousie University\\Documents\\DataScience\\DefectDetection\\saucer_defect_detection\\saucer_data\\train\\normal')\n",
    "# Read until video is completed\n",
    "i= 1\n",
    "while(cap.isOpened()):\n",
    "  # Capture frame-by-frame\n",
    "  ret, frame = cap.read()\n",
    "\n",
    "  if ret == True:\n",
    "    frame = cv2.resize(frame, (0, 0), fx=0.25, fy=0.25)\n",
    "    gray = cv2.cvtColor(frame, cv2.COLOR_BGR2GRAY)\n",
    "    circles = cv2.HoughCircles(gray, cv2.HOUGH_GRADIENT, 1.2, 100)\n",
    "    \n",
    "    if circles is not None:\n",
    "      circles = np.round(circles[0, :]).astype(\"int\")\n",
    "      for (x, y, r) in circles:\n",
    "        pass\n",
    "      # Display the resulting frame\n",
    "      frame = frame[y-r:y+r,x-r:x+r]\n",
    "      try:\n",
    "        string = 'normal_' + str(i) + '.jpg'\n",
    "        cv2.imwrite(string,frame)\n",
    "        i += 1\n",
    "      except:\n",
    "        pass\n",
    "    # Press Q on keyboard to  exit\n",
    "    if cv2.waitKey(25) & 0xFF == ord('q'):\n",
    "      break\n",
    " \n",
    "  # Break the loop\n",
    "  else:\n",
    "    break\n",
    " \n",
    "# When everything done, release the video capture object\n",
    "cap.release()\n",
    " \n",
    "# Closes all the frames\n",
    "cv2.destroyAllWindows()"
   ]
  },
  {
   "cell_type": "markdown",
   "metadata": {},
   "source": [
    "### Convert defect1 mp4 video to defect1 image dataset"
   ]
  },
  {
   "cell_type": "code",
   "execution_count": 29,
   "metadata": {},
   "outputs": [
    {
     "name": "stdout",
     "output_type": "stream",
     "text": [
      "Error opening video stream or file\n"
     ]
    }
   ],
   "source": [
    "cap = cv2.VideoCapture(r'defect1.mp4')\n",
    "if (cap.isOpened()== False):\n",
    "  print(\"Error opening video stream or file\")\n",
    " \n",
    "os.chdir(r'C:\\Users\\navya\\OneDrive - Dalhousie University\\Documents\\DataScience\\DefectDetection\\saucer_defect_detection\\saucer_data\\train\\defect_1')\n",
    "# Read until video is completed\n",
    "i= 1\n",
    "while(cap.isOpened()):\n",
    "  # Capture frame-by-frame\n",
    "  ret, frame = cap.read()\n",
    "\n",
    "  if ret == True:\n",
    "    frame = cv2.resize(frame, (0, 0), fx=0.25, fy=0.25)\n",
    "    gray = cv2.cvtColor(frame, cv2.COLOR_BGR2GRAY)\n",
    "    circles = cv2.HoughCircles(gray, cv2.HOUGH_GRADIENT, 1.2, 100)\n",
    "    \n",
    "    if circles is not None:\n",
    "      circles = np.round(circles[0, :]).astype(\"int\")\n",
    "      for (x, y, r) in circles:\n",
    "        pass\n",
    "      # Display the resulting frame\n",
    "      frame = frame[y-r:y+r,x-r:x+r]\n",
    "      try:\n",
    "        string = 'defect1_' + str(i) + '.jpg'\n",
    "        cv2.imwrite(string,frame)\n",
    "        i += 1\n",
    "      except:\n",
    "        pass\n",
    "    # Press Q on keyboard to  exit\n",
    "    if cv2.waitKey(25) & 0xFF == ord('q'):\n",
    "      break\n",
    " \n",
    "  # Break the loop\n",
    "  else:\n",
    "    break\n",
    " \n",
    "# When everything done, release the video capture object\n",
    "cap.release()\n",
    " \n",
    "# Closes all the frames\n",
    "cv2.destroyAllWindows()"
   ]
  },
  {
   "cell_type": "markdown",
   "metadata": {},
   "source": [
    "### Convert defect2 mp4 video to defect2 image dataset"
   ]
  },
  {
   "cell_type": "code",
   "execution_count": null,
   "metadata": {},
   "outputs": [],
   "source": [
    "cap = cv2.VideoCapture(r'defect2.mp4')\n",
    "if (cap.isOpened()== False):\n",
    "  print(\"Error opening video stream or file\")\n",
    " \n",
    "os.chdir(r'saucer_data\\train\\defect_2')\n",
    "# Read until video is completed\n",
    "i= 1\n",
    "while(cap.isOpened()):\n",
    "  # Capture frame-by-frame\n",
    "  ret, frame = cap.read()\n",
    "\n",
    "  if ret == True:\n",
    "    frame = cv2.resize(frame, (0, 0), fx=0.25, fy=0.25)\n",
    "    gray = cv2.cvtColor(frame, cv2.COLOR_BGR2GRAY)\n",
    "    circles = cv2.HoughCircles(gray, cv2.HOUGH_GRADIENT, 1.2, 100)\n",
    "    \n",
    "    if circles is not None:\n",
    "      circles = np.round(circles[0, :]).astype(\"int\")\n",
    "      for (x, y, r) in circles:\n",
    "        pass\n",
    "      # Display the resulting frame\n",
    "      frame = frame[y-r:y+r,x-r:x+r]\n",
    "      try:\n",
    "        string = 'defect2_' + str(i) + '.jpg'\n",
    "        cv2.imwrite(string,frame)\n",
    "        i += 1\n",
    "      except:\n",
    "        pass\n",
    "    # Press Q on keyboard to  exit\n",
    "    if cv2.waitKey(25) & 0xFF == ord('q'):\n",
    "      break\n",
    " \n",
    "  # Break the loop\n",
    "  else:\n",
    "    break\n",
    " \n",
    "# When everything done, release the video capture object\n",
    "cap.release()\n",
    " \n",
    "# Closes all the frames\n",
    "cv2.destroyAllWindows()"
   ]
  },
  {
   "cell_type": "markdown",
   "metadata": {},
   "source": [
    "### Move some normal images from training to validation normal dataset"
   ]
  },
  {
   "cell_type": "code",
   "execution_count": 30,
   "metadata": {},
   "outputs": [
    {
     "ename": "FileNotFoundError",
     "evalue": "[WinError 3] The system cannot find the path specified: 'C:\\\\Users\\\\navya\\\\OneDrive - Dalhousie University\\\\Documents\\\\DataScience\\\\DefectDetection\\\\saucer_defect_detection\\\\saucer_data\\\\train\\\\normal\\\\normal_422.jpg' -> 'saucer_data\\\\validation\\\\normal\\\\normal_422.jpg'",
     "output_type": "error",
     "traceback": [
      "\u001b[1;31m---------------------------------------------------------------------------\u001b[0m",
      "\u001b[1;31mFileNotFoundError\u001b[0m                         Traceback (most recent call last)",
      "\u001b[1;32m~\\AppData\\Local\\Temp\\ipykernel_55700\\2332091017.py\u001b[0m in \u001b[0;36m<module>\u001b[1;34m\u001b[0m\n\u001b[0;32m      5\u001b[0m \u001b[0mr\u001b[0m \u001b[1;33m=\u001b[0m \u001b[0mrandom\u001b[0m\u001b[1;33m.\u001b[0m\u001b[0msample\u001b[0m\u001b[1;33m(\u001b[0m\u001b[0mallfiles\u001b[0m\u001b[1;33m,\u001b[0m\u001b[1;36m30\u001b[0m\u001b[1;33m)\u001b[0m\u001b[1;33m\u001b[0m\u001b[1;33m\u001b[0m\u001b[0m\n\u001b[0;32m      6\u001b[0m \u001b[1;32mfor\u001b[0m \u001b[0mi\u001b[0m \u001b[1;32min\u001b[0m \u001b[0mr\u001b[0m\u001b[1;33m:\u001b[0m\u001b[1;33m\u001b[0m\u001b[1;33m\u001b[0m\u001b[0m\n\u001b[1;32m----> 7\u001b[1;33m     \u001b[0mos\u001b[0m\u001b[1;33m.\u001b[0m\u001b[0mrename\u001b[0m\u001b[1;33m(\u001b[0m\u001b[0msource\u001b[0m \u001b[1;33m+\u001b[0m \u001b[1;34m\"\\\\\"\u001b[0m \u001b[1;33m+\u001b[0m\u001b[0mi\u001b[0m\u001b[1;33m,\u001b[0m \u001b[0mdestination\u001b[0m \u001b[1;33m+\u001b[0m \u001b[1;34m\"\\\\\"\u001b[0m \u001b[1;33m+\u001b[0m \u001b[0mi\u001b[0m\u001b[1;33m)\u001b[0m\u001b[1;33m\u001b[0m\u001b[1;33m\u001b[0m\u001b[0m\n\u001b[0m",
      "\u001b[1;31mFileNotFoundError\u001b[0m: [WinError 3] The system cannot find the path specified: 'C:\\\\Users\\\\navya\\\\OneDrive - Dalhousie University\\\\Documents\\\\DataScience\\\\DefectDetection\\\\saucer_defect_detection\\\\saucer_data\\\\train\\\\normal\\\\normal_422.jpg' -> 'saucer_data\\\\validation\\\\normal\\\\normal_422.jpg'"
     ]
    }
   ],
   "source": [
    "source = r'C:\\Users\\navya\\OneDrive - Dalhousie University\\Documents\\DataScience\\DefectDetection\\saucer_defect_detection\\saucer_data\\train\\normal'\n",
    "destination = r'saucer_data\\validation\\normal'\n",
    "  \n",
    "allfiles = os.listdir(source)\n",
    "r = random.sample(allfiles,30)\n",
    "for i in r:\n",
    "    os.rename(source + \"\\\\\" +i, destination + \"\\\\\" + i)"
   ]
  },
  {
   "cell_type": "markdown",
   "metadata": {},
   "source": [
    "### Move some defect1 images from training to validation dataset"
   ]
  },
  {
   "cell_type": "code",
   "execution_count": null,
   "metadata": {},
   "outputs": [],
   "source": [
    "source = r'saucer_data\\train\\defect_1'\n",
    "destination = r'saucer_data\\validation\\defect_1'\n",
    "  \n",
    "allfiles = os.listdir(source)\n",
    "r = random.sample(allfiles,30)\n",
    "for i in r:\n",
    "    os.rename(source + \"\\\\\" +i, destination + \"\\\\\" + i)"
   ]
  },
  {
   "cell_type": "markdown",
   "metadata": {},
   "source": [
    "### Move some defect2 images from training to validation dataset"
   ]
  },
  {
   "cell_type": "code",
   "execution_count": null,
   "metadata": {},
   "outputs": [],
   "source": [
    "source = r'saucer_data\\train\\defect_2'\n",
    "destination = r'saucer_data\\validation\\defect_2'\n",
    "  \n",
    "allfiles = os.listdir(source)\n",
    "r = random.sample(allfiles,20)\n",
    "for i in r:\n",
    "    os.rename(source + \"\\\\\" +i, destination + \"\\\\\" + i)"
   ]
  },
  {
   "cell_type": "markdown",
   "metadata": {},
   "source": [
    "### Move some normal images from training to testing dataset"
   ]
  },
  {
   "cell_type": "code",
   "execution_count": null,
   "metadata": {},
   "outputs": [],
   "source": [
    "source = r'saucer_data\\train\\normal'\n",
    "destination = r'saucer_data\\test'\n",
    "\n",
    "allfiles = os.listdir(source)\n",
    "r = random.sample(allfiles,10)\n",
    "for i in r:\n",
    "    os.rename(source + \"\\\\\" +i, destination + \"\\\\\" + i)"
   ]
  },
  {
   "cell_type": "markdown",
   "metadata": {},
   "source": [
    "### Move some defect1 images from training to testing dataset"
   ]
  },
  {
   "cell_type": "code",
   "execution_count": null,
   "metadata": {},
   "outputs": [],
   "source": [
    "source = r'saucer_data\\train\\defect_1'\n",
    "destination = r'saucer_data\\test'\n",
    "\n",
    "allfiles = os.listdir(source)\n",
    "r = random.sample(allfiles,10)\n",
    "for i in r:\n",
    "    os.rename(source + \"\\\\\" +i, destination + \"\\\\\" + i)"
   ]
  },
  {
   "cell_type": "markdown",
   "metadata": {},
   "source": [
    "### Move some defect2 images from training to testing dataset"
   ]
  },
  {
   "cell_type": "code",
   "execution_count": null,
   "metadata": {},
   "outputs": [],
   "source": [
    "source = r'saucer_data\\train\\defect_2'\n",
    "destination = r'saucer_data\\test'\n",
    "\n",
    "allfiles = os.listdir(source)\n",
    "r = random.sample(allfiles,10)\n",
    "for i in r:\n",
    "    os.rename(source + \"\\\\\" +i, destination + \"\\\\\" + i)"
   ]
  },
  {
   "cell_type": "markdown",
   "metadata": {},
   "source": [
    "### Function check number of frames in a video"
   ]
  },
  {
   "cell_type": "code",
   "execution_count": null,
   "metadata": {},
   "outputs": [],
   "source": [
    "from imutils import is_cv3\n",
    "\n",
    "def count_frames(path, override=False):\n",
    "\t\n",
    "\tvideo = cv2.VideoCapture(path)\n",
    "\ttotal = 0\n",
    "\n",
    "\tif override:\n",
    "\t\ttotal = count_frames_manual(video)\n",
    "\n",
    "\telse:\n",
    "\t\ttry:\n",
    "\t\t\tif is_cv3():\n",
    "\t\t\t\ttotal = int(video.get(cv2.CAP_PROP_FRAME_COUNT))\n",
    "\t\t\telse:\n",
    "\t\t\t\ttotal = int(video.get(cv2.cv.CV_CAP_PROP_FRAME_COUNT))\n",
    "\t\texcept:\n",
    "\t\t\ttotal = count_frames_manual(video)\n",
    "\n",
    "\tvideo.release()\n",
    "\n",
    "\treturn total\n",
    "\n",
    "def count_frames_manual(video):\n",
    "\ttotal = 0\n",
    "\n",
    "\twhile True:\n",
    "\t\t(grabbed, frame) = video.read()\n",
    "\t \n",
    "\t\tif not grabbed:\n",
    "\t\t\tbreak\n",
    "\n",
    "\t\ttotal += 1\n",
    "\n",
    "\treturn total"
   ]
  },
  {
   "cell_type": "code",
   "execution_count": null,
   "metadata": {},
   "outputs": [],
   "source": [
    "count_frames('normal.mp4')"
   ]
  },
  {
   "cell_type": "code",
   "execution_count": null,
   "metadata": {},
   "outputs": [],
   "source": [
    "count_frames('normal.mp4',True)"
   ]
  },
  {
   "cell_type": "code",
   "execution_count": null,
   "metadata": {},
   "outputs": [],
   "source": []
  }
 ],
 "metadata": {
  "interpreter": {
   "hash": "3ab3d5f8dec5bf1e3af2739e530a67e4b56b46e5431046229599de570b795f8d"
  },
  "kernelspec": {
   "display_name": "Python 3 (ipykernel)",
   "language": "python",
   "name": "python3"
  },
  "language_info": {
   "codemirror_mode": {
    "name": "ipython",
    "version": 3
   },
   "file_extension": ".py",
   "mimetype": "text/x-python",
   "name": "python",
   "nbconvert_exporter": "python",
   "pygments_lexer": "ipython3",
   "version": "3.9.13"
  }
 },
 "nbformat": 4,
 "nbformat_minor": 2
}
